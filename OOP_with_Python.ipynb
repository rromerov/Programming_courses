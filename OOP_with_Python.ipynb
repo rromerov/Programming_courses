{
  "nbformat": 4,
  "nbformat_minor": 0,
  "metadata": {
    "colab": {
      "provenance": [],
      "authorship_tag": "ABX9TyOk7CgbQf8paa5sCtmC00AR",
      "include_colab_link": true
    },
    "kernelspec": {
      "name": "python3",
      "display_name": "Python 3"
    },
    "language_info": {
      "name": "python"
    }
  },
  "cells": [
    {
      "cell_type": "markdown",
      "metadata": {
        "id": "view-in-github",
        "colab_type": "text"
      },
      "source": [
        "<a href=\"https://colab.research.google.com/github/rromerov/Programming_courses/blob/main/OOP_with_Python.ipynb\" target=\"_parent\"><img src=\"https://colab.research.google.com/assets/colab-badge.svg\" alt=\"Open In Colab\"/></a>"
      ]
    },
    {
      "cell_type": "markdown",
      "source": [
        "# ¿Qué es Programación orientada a objetos? \n",
        "\n",
        "Es un paradigma de la programación, no es más que un modelo básico de diseño y desarrollo de programas.\n",
        "\n",
        "## Objetos\n",
        "Los objetos tienen características que lo diferencian uno de otro, además de que cada uno cumple con diferentes funciones.\n",
        "\n",
        "## Clase\n",
        "En si son el mismo objeto pero tienen algunas diferencias, por ejemplo puedo tener una clase y construir otras clases o objetos con las mismas características.\n",
        "\n",
        "## POO características:\n",
        "\n",
        "* Reutiliza código.\n",
        "* Desarrollo de sistemas complejos.\n",
        "* Facilita el mantenimiento."
      ],
      "metadata": {
        "id": "bF8k2Y2pqAfM"
      }
    },
    {
      "cell_type": "code",
      "execution_count": 12,
      "metadata": {
        "colab": {
          "base_uri": "https://localhost:8080/"
        },
        "id": "WgKds9XipcDn",
        "outputId": "1e6085b1-a551-4fce-b1f6-fa3a6f12f3d1"
      },
      "outputs": [
        {
          "output_type": "stream",
          "name": "stdout",
          "text": [
            "0\n"
          ]
        }
      ],
      "source": [
        "#inciamos una clase\n",
        "#el nombre de la clase siempre debe empezar con una mayúscula\n",
        "#importante la clase no debe llevar valores de los objetos\n",
        "class Auto:\n",
        "  marca = \"\"\n",
        "  modelo = 0\n",
        "  placa = \"\"\n",
        "\n",
        "#la variable taxi será un objeto\n",
        "taxi= Auto()\n",
        "\n",
        "#para ver los valores guardados dentro del objeto escribimos el nombre del objeto seguido del atributo que nos interesa conocer\n",
        "print(taxi.modelo)\n"
      ]
    },
    {
      "cell_type": "code",
      "source": [
        "class Persona: #\"clase\"\n",
        "  doctor = \"Victor\" #objeto\n",
        "\n",
        "print(Persona.doctor)"
      ],
      "metadata": {
        "colab": {
          "base_uri": "https://localhost:8080/"
        },
        "id": "93hVccN27IXi",
        "outputId": "52ecc5e7-007b-48b2-e068-7078d3480be2"
      },
      "execution_count": 14,
      "outputs": [
        {
          "output_type": "stream",
          "name": "stdout",
          "text": [
            "Victor\n"
          ]
        }
      ]
    },
    {
      "cell_type": "code",
      "source": [
        "class Jugadores_A:\n",
        "  j1=\"Messi\"\n",
        "  j2=\"Cristiano Ronaldo\"\n",
        "\n",
        "print(Jugadores_A.j2)"
      ],
      "metadata": {
        "colab": {
          "base_uri": "https://localhost:8080/"
        },
        "id": "0E-1OFMBPjh3",
        "outputId": "2ff13020-1752-4b7e-876c-2e9a7973aaaf"
      },
      "execution_count": 16,
      "outputs": [
        {
          "output_type": "stream",
          "name": "stdout",
          "text": [
            "Cristiano Ronaldo\n"
          ]
        }
      ]
    },
    {
      "cell_type": "markdown",
      "source": [
        "¿Para qué sirve POO?\n",
        "\n",
        "Para no repetir líneas de código."
      ],
      "metadata": {
        "id": "Z4MmGIAXQwhF"
      }
    },
    {
      "cell_type": "code",
      "source": [
        "class Jugadores_B:\n",
        "  J3=\"Marcelo\"\n",
        "  j1=\"Falcao\"\n",
        "\n",
        "print(Jugadores_B.j1)"
      ],
      "metadata": {
        "colab": {
          "base_uri": "https://localhost:8080/"
        },
        "id": "9Ip9t4FcQrSu",
        "outputId": "1f61523b-ca62-49cc-dd7a-fb9f852dab4a"
      },
      "execution_count": 18,
      "outputs": [
        {
          "output_type": "stream",
          "name": "stdout",
          "text": [
            "Falcao\n"
          ]
        }
      ]
    },
    {
      "cell_type": "code",
      "source": [
        "class equipo:\n",
        "  e2=\"barcelona\"\n",
        "  e3=\"real madrid\"\n",
        "\n",
        "equipo.e3"
      ],
      "metadata": {
        "colab": {
          "base_uri": "https://localhost:8080/",
          "height": 36
        },
        "id": "vPkjODaiRSA0",
        "outputId": "1bbf3f88-b821-43e2-a6c9-7dc1eaa40ad6"
      },
      "execution_count": 23,
      "outputs": [
        {
          "output_type": "execute_result",
          "data": {
            "text/plain": [
              "'real madrid'"
            ],
            "application/vnd.google.colaboratory.intrinsic+json": {
              "type": "string"
            }
          },
          "metadata": {},
          "execution_count": 23
        }
      ]
    },
    {
      "cell_type": "code",
      "source": [
        "class nombre:\n",
        "  pass\n",
        "\n",
        "victor=nombre()\n",
        "maria=nombre()\n",
        "\n",
        "#para modificar el objeto seguimos la siguiente estructura\n",
        "# objeto.atributo = valor, esto nos sirve para añadir el atributo al objeto victor\n",
        "victor.edad=30\n",
        "victor.sexo=\"Masculino\"\n",
        "victor.pais=\"Mexico\"\n",
        "\n",
        "maria.edad=25\n",
        "maria.sexo=\"Femienino\"\n",
        "maria.pais=\"Colombia\"\n",
        "print(victor.edad)\n",
        "print(victor.pais)\n",
        "print(maria.edad)"
      ],
      "metadata": {
        "colab": {
          "base_uri": "https://localhost:8080/"
        },
        "id": "dg6rkRTkSO7U",
        "outputId": "05491253-efae-4dab-830c-4b99947d7e40"
      },
      "execution_count": 27,
      "outputs": [
        {
          "output_type": "stream",
          "name": "stdout",
          "text": [
            "30\n",
            "Mexico\n",
            "25\n"
          ]
        }
      ]
    },
    {
      "cell_type": "code",
      "source": [],
      "metadata": {
        "id": "ZibTm_sJT2sv"
      },
      "execution_count": null,
      "outputs": []
    }
  ]
}